{
 "cells": [
  {
   "cell_type": "code",
   "execution_count": null,
   "id": "500f9f19-48ad-494c-8d84-e9ab30142f7f",
   "metadata": {},
   "outputs": [],
   "source": [
    "from random import randint\n",
    "\n",
    "def comp(a, b):\n",
    "    return sum(x == y for x, y in zip(a, b))\n",
    "\n",
    "def same(a, b):\n",
    "    return len(set(a) & set(b))\n",
    "\n",
    "print(\"数当てゲームを始めます。3桁の数を当ててください！\")\n",
    "answer = [randint(0, 9) for n in range(3)]\n",
    "while True:\n",
    "    prediction = [int(input(f\"{m + 1}桁目の予想を入力(0~9)\")) for m in range(3)]\n",
    "    hit = comp(answer, prediction)\n",
    "    blow = same(answer, prediction) - hit\n",
    "    print(f\"{hit}ヒット！{blow}ブロー！\")\n",
    "    if hit == 3:\n",
    "        print(\"正解です\")\n",
    "        break\n",
    "    if input(\"続けますか？1:続ける2:終了＞＞\") == \"2\":\n",
    "        print(f\"正解は{answer}\")\n",
    "        break"
   ]
  }
 ],
 "metadata": {
  "kernelspec": {
   "display_name": "anaconda-panel-2023.05-py310",
   "language": "python",
   "name": "conda-env-anaconda-panel-2023.05-py310-py"
  },
  "language_info": {
   "codemirror_mode": {
    "name": "ipython",
    "version": 3
   },
   "file_extension": ".py",
   "mimetype": "text/x-python",
   "name": "python",
   "nbconvert_exporter": "python",
   "pygments_lexer": "ipython3",
   "version": "3.11.5"
  }
 },
 "nbformat": 4,
 "nbformat_minor": 5
}
