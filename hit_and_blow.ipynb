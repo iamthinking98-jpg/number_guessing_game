from random import randint

def comp(a,b):
    count = 0
    for x in range(3):
        if a[x] == b[x]:
            count += 1
        else:
            continue
    return count

def same(a,b):
    x = set(a.copy())
    y = set(b.copy())
    return len(x & y)

print("数当てゲームを始めます。3桁の数を当ててください！")
answer = list()
for n in range(3):
    answer.append(randint(0,9))
count = 1
while count == 1:
    prediction = list()
    for m in range(3):
        prediction.append(int(input(f"{m + 1}桁目の予想を入力(0~9)")))
    hit = comp(answer, prediction)
    boll = same(answer, prediction)
    print(f"{hit}ヒット！{boll}ボール！")
    if hit == 3:
        print("正解です")
        break
    else:
        count = int(input("続けますか？1:続ける2:終了＞＞"))
        if count == 2:
            print(f"正解は{answer}")
        else:
            print("入力が正しくありません。終了します")
            count = 2
