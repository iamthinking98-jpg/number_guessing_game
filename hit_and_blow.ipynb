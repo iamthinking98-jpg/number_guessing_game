{
 "cells": [
  {
   "cell_type": "code",
   "execution_count": 1,
   "id": "500f9f19-48ad-494c-8d84-e9ab30142f7f",
   "metadata": {},
   "outputs": [
    {
     "name": "stdout",
     "output_type": "stream",
     "text": [
      "数当てゲームを始めます。3桁の数を当ててください！\n"
     ]
    },
    {
     "name": "stdin",
     "output_type": "stream",
     "text": [
      "1桁目の予想を入力(0~9) 1\n",
      "2桁目の予想を入力(0~9) 2\n",
      "3桁目の予想を入力(0~9) 3\n"
     ]
    },
    {
     "name": "stdout",
     "output_type": "stream",
     "text": [
      "0ヒット！0ボール！\n"
     ]
    },
    {
     "name": "stdin",
     "output_type": "stream",
     "text": [
      "続けますか？1:続ける2:終了＞＞ 1\n",
      "1桁目の予想を入力(0~9) 4\n",
      "2桁目の予想を入力(0~9) 5\n",
      "3桁目の予想を入力(0~9) 6\n"
     ]
    },
    {
     "name": "stdout",
     "output_type": "stream",
     "text": [
      "0ヒット！1ボール！\n"
     ]
    },
    {
     "name": "stdin",
     "output_type": "stream",
     "text": [
      "続けますか？1:続ける2:終了＞＞ 1\n",
      "1桁目の予想を入力(0~9) 7\n",
      "2桁目の予想を入力(0~9) 8\n",
      "3桁目の予想を入力(0~9) 9\n"
     ]
    },
    {
     "name": "stdout",
     "output_type": "stream",
     "text": [
      "0ヒット！1ボール！\n"
     ]
    },
    {
     "name": "stdin",
     "output_type": "stream",
     "text": [
      "続けますか？1:続ける2:終了＞＞ 1\n",
      "1桁目の予想を入力(0~9) 0\n",
      "2桁目の予想を入力(0~9) 5\n",
      "3桁目の予想を入力(0~9) 8\n"
     ]
    },
    {
     "name": "stdout",
     "output_type": "stream",
     "text": [
      "0ヒット！0ボール！\n"
     ]
    },
    {
     "name": "stdin",
     "output_type": "stream",
     "text": [
      "続けますか？1:続ける2:終了＞＞ 2\n"
     ]
    },
    {
     "name": "stdout",
     "output_type": "stream",
     "text": [
      "正解は[6, 6, 7]\n"
     ]
    }
   ],
   "source": [
    "# from random import randint\n",
    "\n",
    "def comp(a,b):\n",
    "    count = 0\n",
    "    for x in range(3):\n",
    "        if a[x] == b[x]:\n",
    "            count += 1\n",
    "        else:\n",
    "            continue\n",
    "    return count\n",
    "\n",
    "def same(a,b):\n",
    "    x = set(a.copy())\n",
    "    y = set(b.copy())\n",
    "    return len(x & y)\n",
    "\n",
    "print(\"数当てゲームを始めます。3桁の数を当ててください！\")\n",
    "answer = list()\n",
    "for n in range(3):\n",
    "    answer.append(randint(0,9))\n",
    "count = 1\n",
    "while count == 1:\n",
    "    prediction = list()\n",
    "    for m in range(3):\n",
    "        prediction.append(int(input(f\"{m + 1}桁目の予想を入力(0~9)\")))\n",
    "    hit = comp(answer, prediction)\n",
    "    boll = same(answer, prediction)\n",
    "    print(f\"{hit}ヒット！{boll}ボール！\")\n",
    "    if hit == 3:\n",
    "        print(\"正解です\")\n",
    "        break\n",
    "    else:\n",
    "        count = int(input(\"続けますか？1:続ける2:終了＞＞\"))\n",
    "        if count == 2:\n",
    "            print(f\"正解は{answer}\")"
   ]
  },
  {
   "cell_type": "code",
   "execution_count": null,
   "id": "fea9d079-3aea-4160-828f-4968dab6efb4",
   "metadata": {},
   "outputs": [],
   "source": []
  }
 ],
 "metadata": {
  "kernelspec": {
   "display_name": "anaconda-2024.02-py310",
   "language": "python",
   "name": "conda-env-anaconda-2024.02-py310-py"
  },
  "language_info": {
   "codemirror_mode": {
    "name": "ipython",
    "version": 3
   },
   "file_extension": ".py",
   "mimetype": "text/x-python",
   "name": "python",
   "nbconvert_exporter": "python",
   "pygments_lexer": "ipython3",
   "version": "3.10.14"
  }
 },
 "nbformat": 4,
 "nbformat_minor": 5
}
